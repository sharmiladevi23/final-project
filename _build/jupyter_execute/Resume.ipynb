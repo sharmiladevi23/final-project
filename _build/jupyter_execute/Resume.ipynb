{
 "cells": [
  {
   "cell_type": "markdown",
   "id": "33dd550a",
   "metadata": {},
   "source": [
    "# Contact Information\n",
    "- **Phone**: +1 (716) 305-0534\n",
    "- **Email**: sharmila.23devi@gmail.com\n",
    "- **LinkedIn**: [linkedin.com/in/sharmila-devi-b72650213](https://linkedin.com/in/sharmila-devi-b72650213)\n",
    "\n",
    "---\n",
    "\n",
    "# Education\n",
    "\n",
    "**Master of Science in Engineering Science and Data Science**  \n",
    "**University at Buffalo**, Buffalo, New York       (June 2026)  \n",
    "Relevant Coursework: Data Visualization, Data Mining, Advanced DBMS, Statistical Learning, Machine Learning, Data Model Query Language, Statistical Analysis, Quantitative Analysis, Deep Learning.\n",
    "\n",
    "**Bachelor of Technology in Electronics and Communication**  \n",
    "**Jawaharlal Nehru Technological University**, Hyderabad, INDIA (June 2022)  \n",
    "  \n",
    "\n",
    "---\n",
    "\n",
    "# Technical Skills\n",
    "- **Programming Languages**: Python, C, SQL, R, Shell Scripting, PySpark  \n",
    "- **Data Technologies**: Apache Spark, Hadoop  \n",
    "- **Databases**: MySQL, PostgreSQL  \n",
    "- **Cloud Platforms**: AWS, Azure  \n",
    "- **Visualization Tools**: Power BI, Tableau  \n",
    "- **Other Tools**: ControlM, Putty, Vim, Jira, Excel, WinScp  \n",
    "\n",
    "---\n",
    "\n",
    "# Work Experience\n",
    "\n",
    "# Data Engineer | Harman India (April 2022 – Nov 2023)\n",
    "- **Project**: FSPR (Client: IRi)  \n",
    "  - Designed and built facts and dimensions for point-of-sale data using the Spark framework and optimized data processing jobs on Hadoop clusters.\n",
    "  - Loaded transformed data to MONET database, ensuring stakeholders had access to critical information.\n",
    "  - Used Python and Django frameworks to interact with APIs and integrate data into ETL processing.\n",
    "  - Collaborated with data scientists to build a data pipeline estimating total market spend for households using Shell Scripting.\n",
    "  - Migrated data from Hive to Spark engine, improving performance with SQLAlchemy.\n",
    "  - Debugged code and resolved data discrepancies during processing and loading phases.\n",
    "  - Developed a lifestyle segmentation model using Shell Scripting, Python, and SQL, reducing processing time by 30%.\n",
    "  - Followed Agile methodology and tracked issues using JIRA.\n",
    "\n",
    "# Intern Data Engineer | Reed Technologies (Jan 2021 – Feb 2022)\n",
    "- Learned to operate within a large organization and developed SQL queries to preprocess raw data for analysis and modeling.\n",
    "\n",
    "---\n",
    "\n",
    "# Certifications\n",
    "- AWS Cloud Foundations – AWS  \n",
    "\n",
    "---\n",
    "\n",
    "# Personal Projects\n",
    "\n",
    "# Aquaculture Monitoring System Using IoT\n",
    "Developed an IoT-driven system for real-time monitoring of water quality parameters (e.g., pH) in aquaculture farms. Integrated Arduino and ESP8266 with sensors for data collection, leading to efficient monitoring. Applied machine learning algorithms for predictive analytics, optimizing resource usage and improving farm sustainability. Designed a cloud-based data visualization interface to track trends and automate farm operations, ensuring optimal environmental conditions for aquaculture growth. \n",
    "# Blackjack Strategy Optimization Using Statistical Analysis \n",
    "Analyzed strategies for minimizing losses in Blackjack by simulating 1 million rounds of gameplay, leveraging Python for data preprocessing, EV analysis, and visualization. Developed a \"Basic Strategy\" framework using statistical models to quantify the house edge and guide optimal player decisions. Demonstrated expertise in data simulation, statistical learning, and visualization tools to provide a comprehensive risk analysis.\n",
    "\n",
    "---\n",
    "\n",
    "# Activities\n",
    "- **Director**, Space Sciences and Technologies, IETE Student Forum, VBIT (July 2021 – July 2022)  \n",
    "- **Documentation Lead**, IEEE VBIT Student Forum, VBIT (June 2020 – July 2021)"
   ]
  }
 ],
 "metadata": {
  "jupytext": {
   "formats": "md:myst",
   "text_representation": {
    "extension": ".md",
    "format_name": "myst",
    "format_version": 0.13,
    "jupytext_version": "1.11.5"
   }
  },
  "kernelspec": {
   "display_name": "Python 3",
   "language": "python",
   "name": "python3"
  },
  "language_info": {
   "codemirror_mode": {
    "name": "ipython",
    "version": 3
   },
   "file_extension": ".py",
   "mimetype": "text/x-python",
   "name": "python",
   "nbconvert_exporter": "python",
   "pygments_lexer": "ipython3",
   "version": "3.11.5"
  },
  "source_map": [
   13
  ]
 },
 "nbformat": 4,
 "nbformat_minor": 5
}